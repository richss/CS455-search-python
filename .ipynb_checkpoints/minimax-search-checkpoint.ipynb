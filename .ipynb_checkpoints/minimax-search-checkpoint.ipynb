{
 "cells": [
  {
   "cell_type": "code",
   "execution_count": 36,
   "metadata": {},
   "outputs": [
    {
     "name": "stdout",
     "output_type": "stream",
     "text": [
      "\n",
      "X..\n",
      "...\n",
      "...\n"
     ]
    }
   ],
   "source": [
    "\n",
    "class tic_tac_toe:\n",
    "    \n",
    "    \n",
    "    winners = [[0, 1 ,2], [3, 4, 5], [6, 7, 8],\n",
    "               [0, 3, 6], [1, 4, 7], [2, 5, 8],\n",
    "               [0, 4, 8], [2, 4, 6]]\n",
    "          \n",
    "    \n",
    "    def __init__(self, state=None, parent=None):\n",
    "        \"\"\"\n",
    "        Initializes a tic-tac-toe node\n",
    "        \"\"\"\n",
    "        self.parent = parent\n",
    "                \n",
    "        if state == None:\n",
    "            self.state = [\".\" for i in range(0,9)]\n",
    "            \n",
    "    def __str__(self):\n",
    "        out = \"\"\n",
    "        for i in range(0,9):\n",
    "            if i%3==0: \n",
    "                out += \"\\n\"\n",
    "                \n",
    "            out += self.state[i]       \n",
    "            \n",
    "        return out\n",
    "    \n",
    "    \n",
    "    def utility(self, player):\n",
    "        \n",
    "        counts = []\n",
    "        for win in self.winners:\n",
    "            count = 0\n",
    "            for i in win:\n",
    "                if self.state == player:\n",
    "                    count++\n",
    "            counts.append(count)\n",
    "            \n",
    "        return counts\n",
    "                \n",
    "        \n",
    "  \n",
    "    def placeMove(self, player, row, col):\n",
    "        self.state[row*3 + col] = player\n",
    "\n",
    "    #def getUtility(self, player):\n",
    "        \n",
    "        \n",
    "\n",
    "        \n",
    "    \n",
    "\n",
    "        \n",
    "t = tic_tac_toe()\n",
    "t.placeMove('X',0,0)\n",
    "print(t)\n",
    "    \n",
    "        \n",
    "    \n",
    "    \n",
    "\n",
    "\n",
    "\n"
   ]
  }
 ],
 "metadata": {
  "kernelspec": {
   "display_name": "Python 3",
   "language": "python",
   "name": "python3"
  },
  "language_info": {
   "codemirror_mode": {
    "name": "ipython",
    "version": 3
   },
   "file_extension": ".py",
   "mimetype": "text/x-python",
   "name": "python",
   "nbconvert_exporter": "python",
   "pygments_lexer": "ipython3",
   "version": "3.6.2"
  }
 },
 "nbformat": 4,
 "nbformat_minor": 2
}
