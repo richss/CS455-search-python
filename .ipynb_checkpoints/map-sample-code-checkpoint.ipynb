{
 "cells": [
  {
   "cell_type": "code",
   "execution_count": 40,
   "metadata": {},
   "outputs": [
    {
     "data": {
      "text/plain": [
       "['Red', 'Green']"
      ]
     },
     "execution_count": 40,
     "metadata": {},
     "output_type": "execute_result"
    }
   ],
   "source": [
    "from contextlib import suppress\n",
    "\n",
    "map_regions = [(\"R1\", \"R2\"), (\"R2\", \"R3\"), (\"R1\", \"R3\")]\n",
    "\n",
    "map_state = {}\n",
    "\n",
    "color = {\"Red\",\"Blue\",\"Green\"}\n",
    "\n",
    "for pair in map_state:\n",
    "    if pair[0] not in dict:\n",
    "        map_state[pair[0]] = [None, [pair[1]]]\n",
    "    else:\n",
    "        map_state[pair[0]][1].append(pair[1])\n",
    "        \n",
    "    if pair[1] not in dict:\n",
    "        map_state[pair[1]] = [None, [pair[0]]]\n",
    "    else:\n",
    "        map_state[pair[1]][1].append(pair[0])\n",
    "    \n",
    "\n",
    "def isGoal(map):\n",
    "    goal = True\n",
    "    for x in map:\n",
    "        region = map[x]\n",
    "        if (region[0] == None):\n",
    "            goal = False\n",
    "    return goal\n",
    "\n",
    "\n",
    "dict[\"R2\"][0] = \"Blue\"\n",
    "\n",
    "\n",
    "def getSuccessors(map, region):\n",
    "    rt = map[region]\n",
    "    colors = [\"Red\",\"Blue\",\"Green\"]\n",
    "    \n",
    "    # Get neighbors\n",
    "    neighbors = rt[1]\n",
    "    for neighbor in neighbors:\n",
    "       # index = colors.index(dict[neighbor][0])\n",
    "        with suppress(ValueError, AttributeError):\n",
    "            colors.remove(dict[neighbor][0])\n",
    "    \n",
    "    return colors\n",
    "\n",
    "getSuccessors(dict, \"R1\")\n"
   ]
  },
  {
   "cell_type": "code",
   "execution_count": null,
   "metadata": {
    "collapsed": true
   },
   "outputs": [],
   "source": []
  },
  {
   "cell_type": "code",
   "execution_count": null,
   "metadata": {
    "collapsed": true
   },
   "outputs": [],
   "source": []
  }
 ],
 "metadata": {
  "kernelspec": {
   "display_name": "Python 3",
   "language": "python",
   "name": "python3"
  },
  "language_info": {
   "codemirror_mode": {
    "name": "ipython",
    "version": 3
   },
   "file_extension": ".py",
   "mimetype": "text/x-python",
   "name": "python",
   "nbconvert_exporter": "python",
   "pygments_lexer": "ipython3",
   "version": "3.6.2"
  }
 },
 "nbformat": 4,
 "nbformat_minor": 2
}
