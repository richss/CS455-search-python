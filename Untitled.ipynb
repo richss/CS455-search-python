{
 "cells": [
  {
   "cell_type": "code",
   "execution_count": 34,
   "metadata": {},
   "outputs": [
    {
     "name": "stdout",
     "output_type": "stream",
     "text": [
      "['r1', 'r2', 'r3', 'r4']\n"
     ]
    }
   ],
   "source": [
    "map = [(\"r1\",\"r2\"),(\"r1\", \"r3\"), (\"r2\", \"r4\"), (\"r3\",\"r4\")]\n",
    "\n",
    "locations = dict()\n",
    "\n",
    "for neighbor in map:\n",
    "    if neighbor[0] not in locations:        \n",
    "        locations[neighbor[0]] = []\n",
    "        \n",
    "    if neighbor[1] not in locations:        \n",
    "        locations[neighbor[1]] = []\n",
    "\n",
    "    locations[neighbor[0]].append(neighbor[1])\n",
    "    locations[neighbor[1]].append(neighbor[0])\n",
    "\n",
    "location_key_list = [key for key in locations.keys()]\n",
    "\n",
    "print(location_key_list)   "
   ]
  }
 ],
 "metadata": {
  "kernelspec": {
   "display_name": "Python 3",
   "language": "python",
   "name": "python3"
  },
  "language_info": {
   "codemirror_mode": {
    "name": "ipython",
    "version": 3
   },
   "file_extension": ".py",
   "mimetype": "text/x-python",
   "name": "python",
   "nbconvert_exporter": "python",
   "pygments_lexer": "ipython3",
   "version": "3.7.4"
  }
 },
 "nbformat": 4,
 "nbformat_minor": 2
}
